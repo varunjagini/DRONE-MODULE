{
  "nbformat": 4,
  "nbformat_minor": 0,
  "metadata": {
    "colab": {
      "name": "lorawan.ipynb",
      "provenance": [],
      "authorship_tag": "ABX9TyOqq0Jm6b+YQwwQYDXMKkEo",
      "include_colab_link": true
    },
    "kernelspec": {
      "name": "python3",
      "display_name": "Python 3"
    }
  },
  "cells": [
    {
      "cell_type": "markdown",
      "metadata": {
        "id": "view-in-github",
        "colab_type": "text"
      },
      "source": [
        "<a href=\"https://colab.research.google.com/github/varunjagini/DRONE-MODULE/blob/main/lorawan.ipynb\" target=\"_parent\"><img src=\"https://colab.research.google.com/assets/colab-badge.svg\" alt=\"Open In Colab\"/></a>"
      ]
    },
    {
      "cell_type": "code",
      "metadata": {
        "id": "om7ozGaiH-9a"
      },
      "source": [
        "import numpy as np\r\n",
        "import math"
      ],
      "execution_count": 3,
      "outputs": []
    },
    {
      "cell_type": "code",
      "metadata": {
        "id": "NLbgwq-SIHSF"
      },
      "source": [
        "def estimate_L_C(x, y):\r\n",
        "    ''' \r\n",
        "    x = List of known meanRSSI value\r\n",
        "    y = log(d) values corresponding to the meanRSSI values\r\n",
        "    Output = L, C\r\n",
        "    '''\r\n",
        "\r\n",
        "    num = sum([a*b for a,b in zip(x,y)])  - 5*np.mean(x)*np.mean(y)\r\n",
        "    den = sum([a*a - 5*(a*a) for a in x])\r\n",
        "\r\n",
        "    slope = num/den\r\n",
        "\r\n",
        "    L = -slope/10\r\n",
        "    C = slope*np.mean(x) - np.mean(y)\r\n",
        "\r\n",
        "    return L, C "
      ],
      "execution_count": 4,
      "outputs": []
    },
    {
      "cell_type": "code",
      "metadata": {
        "id": "IzMEFB6uIa0v"
      },
      "source": [
        "def estimate_SD(GD, H, beta):\r\n",
        "    \r\n",
        "    SD = np.sqrt(GD*GD + H*H - (2*GD*H*math.cos(beta)))\r\n",
        "\r\n",
        "    return SD"
      ],
      "execution_count": 5,
      "outputs": []
    },
    {
      "cell_type": "code",
      "metadata": {
        "id": "Wd0tw6e_IeU2"
      },
      "source": [
        "def estimate_constants():\r\n",
        "    ''' \r\n",
        "    In this function we will get the known meanRSSI values. \r\n",
        "    You have to get it from the input. \r\n",
        "    We assume we are getting 10 meanRSSI values and stored in the variable mRSSI\r\n",
        "    We also assume we know GD and beta for each 10 mRSSI values\r\n",
        "    '''\r\n",
        "    # mRSSI, GD, beta\r\n",
        "    mRSSI = [1.0, 2.2, 3.6, 5.3, 2.6, 2.7, 1.2, 5.8, 3.6, 10.0]\r\n",
        "    GD = 20 \r\n",
        "    beta = 90\r\n",
        "    H = 50\r\n",
        "\r\n",
        "    d = [estimate_SD(GD, H, beta) for _ in range(len(mRSSI))]\r\n",
        "\r\n",
        "    L, C = estimate_L_C(mRSSI, list(map(math.log10, d)))\r\n",
        "    \r\n",
        "    return  d, L, C"
      ],
      "execution_count": 6,
      "outputs": []
    },
    {
      "cell_type": "code",
      "metadata": {
        "id": "stmBpplUIiVy"
      },
      "source": [
        "def estimate_location():\r\n",
        "    '''\r\n",
        "    Here we get mean RSSI values from 4 GSs with locations (x1, y1, z1), (x2, y2, z2), (x3, y3, z3), (x4, y4, z4)\r\n",
        "    '''\r\n",
        "    \r\n",
        "    r = []\r\n",
        "    RSSI = [4.9, 1.2, 3.5, 2.1]\r\n",
        "    (x1,y1,z1) = (1,3,4)\r\n",
        "    (x2,y2,z2) = (2,8,6)\r\n",
        "    (x3,y3,z3) = (1,3,6)\r\n",
        "    (x4,y4,z4) = (1,6,2)\r\n",
        "    for i in range(4):\r\n",
        "        d, L, C = estimate_constants()\r\n",
        "        r.append(10**(-((RSSI[i]-C)/10*L)))\r\n",
        "    \r\n",
        "    A = [2*(np.array([x4-x1, y4-y1, z4-z1])), 2*(np.array([x4-x2, y4-y2, z4-z2])), 2*(np.array([x4-x3, y4-y3, z4-z3]))]\r\n",
        "    B = [[r[0]**2 - r[3]**2 - x1**2 - y1**2 - z1**2 + x4**2 + y4**2 + z4**2], [r[1]**2 - r[3]**2 - x2**2 - y2**2 - z2**2 + x4**2 + y4**2 + z4**2], [r[2]**2 - r[3]**2 - x3**2 - y3**2 - z3**2 + x4**2 + y4**2 + z4**2]]\r\n",
        "\r\n",
        "    AT =  np.array(A).T.tolist()\r\n",
        "\r\n",
        "    t1 = np.linalg.inv(np.matmul(AT, A))\r\n",
        "    t2 = np.matmul(t1, AT)\r\n",
        "    w = np.matmul(t2,B)\r\n",
        "\r\n",
        "    return w"
      ],
      "execution_count": 11,
      "outputs": []
    },
    {
      "cell_type": "code",
      "metadata": {
        "colab": {
          "base_uri": "https://localhost:8080/"
        },
        "id": "V26dBD-HInLS",
        "outputId": "e6cc3b33-922c-4085-ad48-6f65d1b9dd2c"
      },
      "source": [
        "print(estimate_location())"
      ],
      "execution_count": 12,
      "outputs": [
        {
          "output_type": "stream",
          "text": [
            "[[-0.16231651]\n",
            " [ 5.83203589]\n",
            " [ 4.99935185]]\n"
          ],
          "name": "stdout"
        }
      ]
    },
    {
      "cell_type": "code",
      "metadata": {
        "id": "uGGBfrWqVN5n"
      },
      "source": [
        ""
      ],
      "execution_count": null,
      "outputs": []
    }
  ]
}